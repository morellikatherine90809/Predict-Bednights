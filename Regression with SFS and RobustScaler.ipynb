{
 "cells": [
  {
   "cell_type": "markdown",
   "id": "f4af83f2-b402-4dfb-a014-bc61c7567634",
   "metadata": {},
   "source": [
    "Goal: Improve Linear model using sfs and standardization of the target feature together."
   ]
  },
  {
   "cell_type": "code",
   "execution_count": null,
   "id": "146710bc-cda6-4cf8-b6b8-733552fd9b27",
   "metadata": {},
   "outputs": [],
   "source": []
  }
 ],
 "metadata": {
  "kernelspec": {
   "display_name": "Python 3 (ipykernel)",
   "language": "python",
   "name": "python3"
  },
  "language_info": {
   "codemirror_mode": {
    "name": "ipython",
    "version": 3
   },
   "file_extension": ".py",
   "mimetype": "text/x-python",
   "name": "python",
   "nbconvert_exporter": "python",
   "pygments_lexer": "ipython3",
   "version": "3.11.9"
  }
 },
 "nbformat": 4,
 "nbformat_minor": 5
}
